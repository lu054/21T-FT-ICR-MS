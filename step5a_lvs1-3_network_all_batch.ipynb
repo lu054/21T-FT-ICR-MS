{
 "cells": [
  {
   "cell_type": "code",
   "execution_count": 3,
   "metadata": {},
   "outputs": [
    {
     "name": "stdout",
     "output_type": "stream",
     "text": [
      "60\n",
      "test/AFFF_PetersonBucket_3sigma+_recal_rev_series.xlsx:\n",
      "Graph with 69 nodes and 63 edges\n",
      "including 9 dummy nodes.\n",
      "11 connected components\n"
     ]
    }
   ],
   "source": [
    "import pandas as pd\n",
    "import networkx as nx\n",
    "import matplotlib.pyplot as plt\n",
    "import glob\n",
    "import os\n",
    "\n",
    "# Load Files Here: (extension name needed)\n",
    "input_folder = 'test/'\n",
    "output_folder = 'test/'\n",
    "xlsx_files = glob.glob(os.path.join(input_folder, '*.xlsx'))\n",
    "\n",
    "# Loop through each file in the folder:\n",
    "for input_file_path in xlsx_files:\n",
    "    \n",
    "    df = pd.read_excel(input_file_path, sheet_name='CF2_series')\n",
    "    df = df[~df['category'].isin(['E'])].reset_index(drop=True)\n",
    "    peak_values = df['exper_mz']\n",
    "    peak_values.drop_duplicates(inplace=True)\n",
    "    peak_values.reset_index(drop=True, inplace=True)\n",
    "    print(len(peak_values))\n",
    "    \n",
    "    tolerance = 2E-4 # This value corresponds to 0.2 ppm at m/z 1000\n",
    "    G = nx.Graph()\n",
    "\n",
    "    for peak in peak_values:\n",
    "        G.add_node(peak)\n",
    "\n",
    "    dummy_nodes = []\n",
    "    for i in range(len(peak_values)):\n",
    "        for j in range(i+1, len(peak_values)):\n",
    "            delta_mz = abs(peak_values.iloc[i] - peak_values.iloc[j])\n",
    "            if abs(delta_mz - 49.99681) <= tolerance:\n",
    "                G.add_edge(peak_values.iloc[i], peak_values.iloc[j], weight=49.99681, color='red')\n",
    "            if abs(delta_mz - 44.02621) <= tolerance:\n",
    "                G.add_edge(peak_values.iloc[i], peak_values.iloc[j], weight=44.02621, color='green')\n",
    "            if abs(delta_mz - 14.01565) <= tolerance:\n",
    "                G.add_edge(peak_values.iloc[i], peak_values.iloc[j], weight=14.01565, color='silver')\n",
    "            if abs(delta_mz - 99.99362) <= tolerance:\n",
    "                dummy_node = round((peak_values.iloc[i] + peak_values.iloc[j]) / 2, 5)\n",
    "                if not any(abs(dummy_node - peak) <= tolerance for peak in peak_values):\n",
    "                    G.add_node(dummy_node, is_dummy=True)\n",
    "                    dummy_nodes.append(dummy_node)\n",
    "                    G.add_edge(peak_values.iloc[i], dummy_node, weight=49.99681, color='red', style='dotted')\n",
    "                    G.add_edge(dummy_node, peak_values.iloc[j], weight=49.99681, color='red', style='dotted')\n",
    "                \n",
    "    isolated_nodes = [n for n in G.nodes() if G.degree(n) == 0]\n",
    "    G.remove_nodes_from(isolated_nodes)\n",
    "    \n",
    "    # plt.figure(figsize=(10, 10))\n",
    "    print(f'{input_file_path}:')\n",
    "    print(G)\n",
    "    print(f'including {len(dummy_nodes)} dummy nodes.')\n",
    "    print(nx.number_connected_components(G), 'connected components')\n",
    "    \n",
    "    # Remove the first two most populated components from the graph\n",
    "    # components = sorted(nx.connected_components(G), key=len, reverse=True)\n",
    "    # G.remove_nodes_from(components[0])\n",
    "    # G.remove_nodes_from(components[1])\n",
    "    \n",
    "    pos = nx.nx_agraph.graphviz_layout(G, prog='neato')\n",
    "\n",
    "    for edge in G.edges():\n",
    "        length = G.edges()[edge]['weight']\n",
    "        color = G.edges()[edge]['color']\n",
    "        style = G.edges()[edge].get('style', 'solid')\n",
    "        nx.draw_networkx_edges(G, pos, edgelist=[edge], width=2, alpha=0.8, edge_color=color, style=style)     \n",
    "\n",
    "    nx.draw_networkx_labels(G, pos, font_size=4, font_color='black', font_family='arial')  \n",
    "\n",
    "    dummy_nodes = [n for n in G.nodes() if G.nodes[n].get('is_dummy')]\n",
    "    real_nodes = [n for n in G.nodes() if not G.nodes[n].get('is_dummy')]\n",
    "    node_values = {node: node for node in real_nodes}\n",
    "    vmin, vmax = min(node_values.values()), max(node_values.values())\n",
    "    colors = [plt.cm.Blues((node_values[v] - vmin) / (vmax - vmin)) for v in real_nodes]\n",
    "    \n",
    "    nx.draw_networkx_nodes(G, pos, nodelist=real_nodes, node_size=15, node_color=colors, alpha=1)  \n",
    "    # nx.draw_networkx_nodes(G, pos, nodelist=dummy_nodes, node_size=15, node_color='gray', alpha=1, node_shape='x')  \n",
    "    nx.draw_networkx_nodes(G, pos, nodelist=dummy_nodes, alpha=1, node_shape='')\n",
    "    \n",
    "    plt.axis('off')\n",
    "\n",
    "    # Save the plot\n",
    "    input_file_name = os.path.splitext(os.path.basename(input_file_path))[0]\n",
    "    output_file_name = input_file_name.replace('_series', '') + '_network.png'\n",
    "    output_file_path = os.path.join(output_folder, output_file_name)\n",
    "\n",
    "    plt.savefig(output_file_path, dpi=600, bbox_inches='tight') \n",
    "    plt.close() "
   ]
  },
  {
   "attachments": {},
   "cell_type": "markdown",
   "metadata": {},
   "source": [
    "If converted into a function:"
   ]
  },
  {
   "cell_type": "code",
   "execution_count": 4,
   "metadata": {},
   "outputs": [
    {
     "data": {
      "text/plain": [
       "\"\\ndef plot_network(input_folder, output_folder, extension):\\n    xlsx_files = glob.glob(os.path.join(input_folder, f'*.{extension}'))\\n    # ...insert the code above...\\n    \\n    \\nExample:\\ninput_folder = 'negative_series_0p2ppm/'\\noutput_folder = 'negative_plots_CF2series_0p2ppm/'\\nextension = 'xlsx'\\nplot_network(input_folder, output_folder, extension)\\n\\n\""
      ]
     },
     "execution_count": 4,
     "metadata": {},
     "output_type": "execute_result"
    }
   ],
   "source": [
    "\"\"\"\n",
    "def plot_network(input_folder, output_folder, extension):\n",
    "    xlsx_files = glob.glob(os.path.join(input_folder, f'*.{extension}'))\n",
    "    # ...insert the code above...\n",
    "    \n",
    "    \n",
    "Example:\n",
    "input_folder = 'negative_series_0p2ppm/'\n",
    "output_folder = 'negative_plots_CF2series_0p2ppm/'\n",
    "extension = 'xlsx'\n",
    "plot_network(input_folder, output_folder, extension)\n",
    "\n",
    "\"\"\""
   ]
  }
 ],
 "metadata": {
  "kernelspec": {
   "display_name": "base",
   "language": "python",
   "name": "python3"
  },
  "language_info": {
   "codemirror_mode": {
    "name": "ipython",
    "version": 3
   },
   "file_extension": ".py",
   "mimetype": "text/x-python",
   "name": "python",
   "nbconvert_exporter": "python",
   "pygments_lexer": "ipython3",
   "version": "3.13.5"
  },
  "orig_nbformat": 4
 },
 "nbformat": 4,
 "nbformat_minor": 2
}
